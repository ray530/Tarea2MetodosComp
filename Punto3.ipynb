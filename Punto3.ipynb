{
 "cells": [
  {
   "cell_type": "markdown",
   "metadata": {},
   "source": [
    "### Punto 3 "
   ]
  },
  {
   "cell_type": "code",
   "execution_count": 1,
   "metadata": {},
   "outputs": [],
   "source": [
    "import numpy as np\n",
    "import matplotlib.pyplot as plt"
   ]
  },
  {
   "cell_type": "markdown",
   "metadata": {},
   "source": [
    "Punto a"
   ]
  },
  {
   "cell_type": "markdown",
   "metadata": {},
   "source": [
    "$$ \\int \\int \\int e^{\\sqrt{x^2 +y^2 +z^2}}dxdydz $$\n",
    "Cambiamos a coordenadas esféricas:\n",
    "$$ \\int_0^{2 \\pi} \\int_0^{\\pi/2} \\int_0^{1} e^r r^2 sin\\theta dr d\\theta d\\phi  $$"
   ]
  },
  {
   "cell_type": "code",
   "execution_count": 70,
   "metadata": {},
   "outputs": [],
   "source": [
    "def f(r, theta):\n",
    "    return (np.exp(r)*(r**2))*np.sin(theta)\n",
    "\n",
    "def MCIntegral(N):\n",
    "    \n",
    "    r=np.random.rand(N)\n",
    "    theta = np.random.rand(N)*0.5*np.pi\n",
    "    \n",
    "    theta_a = 0.\n",
    "    theta_b = 0.5*np.pi\n",
    "    \n",
    "    phi_a=0\n",
    "    phi_b=2*np.pi\n",
    "\n",
    "    peso=(theta_b-theta_a)*(phi_b-phi_a)\n",
    "    mean=np.sum(f(r,theta))/N\n",
    "    return  peso*mean"
   ]
  },
  {
   "cell_type": "code",
   "execution_count": 71,
   "metadata": {},
   "outputs": [
    {
     "data": {
      "text/plain": [
       "4.5174229191950275"
      ]
     },
     "execution_count": 71,
     "metadata": {},
     "output_type": "execute_result"
    }
   ],
   "source": [
    "MCIntegral(int(1e6))"
   ]
  },
  {
   "cell_type": "markdown",
   "metadata": {},
   "source": [
    "Punto b"
   ]
  },
  {
   "cell_type": "code",
   "execution_count": 61,
   "metadata": {},
   "outputs": [
    {
     "data": {
      "text/plain": [
       "Text(0.5, 1.0, 'Precisión')"
      ]
     },
     "execution_count": 61,
     "metadata": {},
     "output_type": "execute_result"
    },
    {
     "data": {
      "image/png": "[encoded data removed]",
      "text/plain": [
       "<Figure size 432x288 with 1 Axes>"
      ]
     },
     "metadata": {
      "needs_background": "light"
     },
     "output_type": "display_data"
    }
   ],
   "source": [
    "n_intentos = 9\n",
    "puntos = np.int_(np.logspace(2,6,n_intentos))\n",
    "\n",
    "real=2*np.pi*(np.e-2)\n",
    "error=[]\n",
    "\n",
    "for i in range(n_intentos):\n",
    "    estimada = MCIntegral(puntos[i])\n",
    "    error.append( estimada/real )\n",
    "    \n",
    "plt.plot(puntos,error)\n",
    "plt.xlabel(\"N\")\n",
    "plt.ylabel(\"$\\\\epsilon$\")\n",
    "plt.grid()\n",
    "plt.title(\"Precisión\")"
   ]
  },
  {
   "cell_type": "markdown",
   "metadata": {},
   "source": [
    "Se observa que para un número suficientemente grande de puntos muestrales, la integral estimada es aproximadamente igual a la real dado que la precisión tiende a 1."
   ]
  }
 ],
 "metadata": {
  "kernelspec": {
   "display_name": "Python 3",
   "language": "python",
   "name": "python3"
  },
  "language_info": {
   "codemirror_mode": {
    "name": "ipython",
    "version": 3
   },
   "file_extension": ".py",
   "mimetype": "text/x-python",
   "name": "python",
   "nbconvert_exporter": "python",
   "pygments_lexer": "ipython3",
   "version": "3.7.6"
  }
 },
 "nbformat": 4,
 "nbformat_minor": 4
}
